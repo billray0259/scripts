{
 "cells": [
  {
   "cell_type": "code",
   "execution_count": null,
   "metadata": {},
   "outputs": [],
   "source": [
    "from src.lib.util import find_files\n",
    "import json\n",
    "\n",
    "directory = \"commands\"\n",
    "\n",
    "file_contents = {}\n",
    "\n",
    "for file in find_files(directory, relative_path=False):\n",
    "    with open(file, \"r\") as f:\n",
    "        file_contents[file] = f.read()\n",
    "\n",
    "with open(\"out.json\", \"w\") as f:\n",
    "    json.dump(file_contents, f, indent=4)"
   ]
  },
  {
   "cell_type": "code",
   "execution_count": null,
   "metadata": {},
   "outputs": [],
   "source": [
    "file_contents"
   ]
  }
 ],
 "metadata": {
  "language_info": {
   "name": "python"
  },
  "orig_nbformat": 4
 },
 "nbformat": 4,
 "nbformat_minor": 2
}
